{
  "nbformat": 4,
  "nbformat_minor": 0,
  "metadata": {
    "colab": {
      "provenance": []
    },
    "kernelspec": {
      "name": "python3",
      "display_name": "Python 3"
    },
    "language_info": {
      "name": "python"
    }
  },
  "cells": [
    {
      "cell_type": "markdown",
      "source": [
        "# 📚 Book Data Scraping and Analysis\n",
        "\n",
        "**Objective:**\n",
        "\n",
        "This project demonstrates:\n",
        "- Web scraping of product data from [BooksToScrape.com](http://books.toscrape.com)\n",
        "- Data cleaning and transformation\n",
        "- Exploratory Data Analysis (EDA)\n",
        "- Creation of a Power BI dashboard to summarize insights\n"
      ],
      "metadata": {
        "id": "TAAQoG8o_6Gs"
      }
    },
    {
      "cell_type": "code",
      "execution_count": 1,
      "metadata": {
        "colab": {
          "base_uri": "https://localhost:8080/",
          "height": 0
        },
        "id": "XDuOF6Pvw4qz",
        "outputId": "93dfd147-a6d4-46f2-9abc-586d1e960b36"
      },
      "outputs": [
        {
          "output_type": "stream",
          "name": "stdout",
          "text": [
            "Requirement already satisfied: requests in /usr/local/lib/python3.11/dist-packages (2.32.3)\n",
            "Requirement already satisfied: beautifulsoup4 in /usr/local/lib/python3.11/dist-packages (4.13.4)\n",
            "Requirement already satisfied: pandas in /usr/local/lib/python3.11/dist-packages (2.2.2)\n",
            "Requirement already satisfied: charset-normalizer<4,>=2 in /usr/local/lib/python3.11/dist-packages (from requests) (3.4.2)\n",
            "Requirement already satisfied: idna<4,>=2.5 in /usr/local/lib/python3.11/dist-packages (from requests) (3.10)\n",
            "Requirement already satisfied: urllib3<3,>=1.21.1 in /usr/local/lib/python3.11/dist-packages (from requests) (2.4.0)\n",
            "Requirement already satisfied: certifi>=2017.4.17 in /usr/local/lib/python3.11/dist-packages (from requests) (2025.7.9)\n",
            "Requirement already satisfied: soupsieve>1.2 in /usr/local/lib/python3.11/dist-packages (from beautifulsoup4) (2.7)\n",
            "Requirement already satisfied: typing-extensions>=4.0.0 in /usr/local/lib/python3.11/dist-packages (from beautifulsoup4) (4.14.1)\n",
            "Requirement already satisfied: numpy>=1.23.2 in /usr/local/lib/python3.11/dist-packages (from pandas) (2.0.2)\n",
            "Requirement already satisfied: python-dateutil>=2.8.2 in /usr/local/lib/python3.11/dist-packages (from pandas) (2.9.0.post0)\n",
            "Requirement already satisfied: pytz>=2020.1 in /usr/local/lib/python3.11/dist-packages (from pandas) (2025.2)\n",
            "Requirement already satisfied: tzdata>=2022.7 in /usr/local/lib/python3.11/dist-packages (from pandas) (2025.2)\n",
            "Requirement already satisfied: six>=1.5 in /usr/local/lib/python3.11/dist-packages (from python-dateutil>=2.8.2->pandas) (1.17.0)\n"
          ]
        }
      ],
      "source": [
        "!pip install requests beautifulsoup4 pandas"
      ]
    },
    {
      "cell_type": "code",
      "source": [
        "import requests\n",
        "from bs4 import BeautifulSoup\n",
        "import pandas as pd"
      ],
      "metadata": {
        "id": "-yWEBEJYruKt"
      },
      "execution_count": 2,
      "outputs": []
    },
    {
      "cell_type": "markdown",
      "source": [
        "## 🔍 Data Scraping\n",
        "\n",
        "We scraped the first page of books including:\n",
        "- Title\n",
        "- Price\n",
        "- Rating\n",
        "- Availability\n"
      ],
      "metadata": {
        "id": "ROujPBNAsLgZ"
      }
    },
    {
      "cell_type": "code",
      "source": [
        "base_url = \"http://books.toscrape.com/catalogue/page-{}.html\"\n",
        "\n",
        "titles = []\n",
        "prices = []\n",
        "availability = []\n",
        "ratings = []\n",
        "\n",
        "# There are 50 pages\n",
        "for page in range(1, 51):\n",
        "    url = base_url.format(page)\n",
        "    response = requests.get(url)\n",
        "    soup = BeautifulSoup(response.text, \"html.parser\")\n",
        "\n",
        "    books = soup.find_all(\"article\", class_=\"product_pod\")\n",
        "    for book in books:\n",
        "        # Title\n",
        "        title = book.h3.a[\"title\"]\n",
        "\n",
        "        # Price\n",
        "        price = book.find(\"p\", class_=\"price_color\").text.strip()\n",
        "\n",
        "        # Availability\n",
        "        avail = book.find(\"p\", class_=\"instock availability\").text.strip()\n",
        "\n",
        "        # Rating\n",
        "        rating_class = book.find(\"p\", class_=\"star-rating\")[\"class\"]\n",
        "        rating = rating_class[1]  # e.g., \"Three\", \"Five\"\n",
        "\n",
        "        titles.append(title)\n",
        "        prices.append(price)\n",
        "        availability.append(avail)\n",
        "        ratings.append(rating)\n",
        "\n",
        "print(\"Scraping completed!\")"
      ],
      "metadata": {
        "colab": {
          "base_uri": "https://localhost:8080/",
          "height": 0
        },
        "id": "yPxBfrIlsKdb",
        "outputId": "d22d9cba-b919-4e32-f669-4e8e48b09dac"
      },
      "execution_count": 3,
      "outputs": [
        {
          "output_type": "stream",
          "name": "stdout",
          "text": [
            "Scraping completed!\n"
          ]
        }
      ]
    },
    {
      "cell_type": "markdown",
      "source": [
        "## 🧹 Data Cleaning\n"
      ],
      "metadata": {
        "id": "Kblu6iUCsZWc"
      }
    },
    {
      "cell_type": "markdown",
      "source": [
        "**Convert prices to float:**"
      ],
      "metadata": {
        "id": "mGiHUymosdXu"
      }
    },
    {
      "cell_type": "code",
      "source": [
        "import re\n",
        "\n",
        "clean_prices = [\n",
        "    float(re.search(r\"\\d+\\.\\d+\", p).group())\n",
        "    for p in prices\n",
        "]"
      ],
      "metadata": {
        "id": "guDMSzesshIa"
      },
      "execution_count": 4,
      "outputs": []
    },
    {
      "cell_type": "markdown",
      "source": [
        "**Convert ratings to numeric:**"
      ],
      "metadata": {
        "id": "3Se81IB9tLTi"
      }
    },
    {
      "cell_type": "code",
      "source": [
        "rating_map = {\n",
        "    \"One\": 1,\n",
        "    \"Two\": 2,\n",
        "    \"Three\": 3,\n",
        "    \"Four\": 4,\n",
        "    \"Five\": 5\n",
        "}\n",
        "numeric_ratings = [rating_map[r] for r in ratings]"
      ],
      "metadata": {
        "id": "OV0FX5G7tM-4"
      },
      "execution_count": 5,
      "outputs": []
    },
    {
      "cell_type": "markdown",
      "source": [
        "**Create DataFrame**\n",
        "---"
      ],
      "metadata": {
        "id": "qUCsDmlYtRwF"
      }
    },
    {
      "cell_type": "code",
      "source": [
        "df = pd.DataFrame({\n",
        "    \"Title\": titles,\n",
        "    \"Price\": clean_prices,\n",
        "    \"Availability\": availability,\n",
        "    \"Rating\": numeric_ratings\n",
        "})"
      ],
      "metadata": {
        "id": "TI1-boHDtVTe"
      },
      "execution_count": 6,
      "outputs": []
    },
    {
      "cell_type": "code",
      "source": [
        "df.head()"
      ],
      "metadata": {
        "colab": {
          "base_uri": "https://localhost:8080/",
          "height": 206
        },
        "id": "An1QT8j2ta5G",
        "outputId": "c157adeb-d84d-4848-a763-93ac6794d03a"
      },
      "execution_count": 7,
      "outputs": [
        {
          "output_type": "execute_result",
          "data": {
            "text/plain": [
              "                                   Title  Price Availability  Rating\n",
              "0                   A Light in the Attic  51.77     In stock       3\n",
              "1                     Tipping the Velvet  53.74     In stock       1\n",
              "2                             Soumission  50.10     In stock       1\n",
              "3                          Sharp Objects  47.82     In stock       4\n",
              "4  Sapiens: A Brief History of Humankind  54.23     In stock       5"
            ],
            "text/html": [
              "\n",
              "  <div id=\"df-f9855dec-df81-4937-9eba-67925b1fe1a8\" class=\"colab-df-container\">\n",
              "    <div>\n",
              "<style scoped>\n",
              "    .dataframe tbody tr th:only-of-type {\n",
              "        vertical-align: middle;\n",
              "    }\n",
              "\n",
              "    .dataframe tbody tr th {\n",
              "        vertical-align: top;\n",
              "    }\n",
              "\n",
              "    .dataframe thead th {\n",
              "        text-align: right;\n",
              "    }\n",
              "</style>\n",
              "<table border=\"1\" class=\"dataframe\">\n",
              "  <thead>\n",
              "    <tr style=\"text-align: right;\">\n",
              "      <th></th>\n",
              "      <th>Title</th>\n",
              "      <th>Price</th>\n",
              "      <th>Availability</th>\n",
              "      <th>Rating</th>\n",
              "    </tr>\n",
              "  </thead>\n",
              "  <tbody>\n",
              "    <tr>\n",
              "      <th>0</th>\n",
              "      <td>A Light in the Attic</td>\n",
              "      <td>51.77</td>\n",
              "      <td>In stock</td>\n",
              "      <td>3</td>\n",
              "    </tr>\n",
              "    <tr>\n",
              "      <th>1</th>\n",
              "      <td>Tipping the Velvet</td>\n",
              "      <td>53.74</td>\n",
              "      <td>In stock</td>\n",
              "      <td>1</td>\n",
              "    </tr>\n",
              "    <tr>\n",
              "      <th>2</th>\n",
              "      <td>Soumission</td>\n",
              "      <td>50.10</td>\n",
              "      <td>In stock</td>\n",
              "      <td>1</td>\n",
              "    </tr>\n",
              "    <tr>\n",
              "      <th>3</th>\n",
              "      <td>Sharp Objects</td>\n",
              "      <td>47.82</td>\n",
              "      <td>In stock</td>\n",
              "      <td>4</td>\n",
              "    </tr>\n",
              "    <tr>\n",
              "      <th>4</th>\n",
              "      <td>Sapiens: A Brief History of Humankind</td>\n",
              "      <td>54.23</td>\n",
              "      <td>In stock</td>\n",
              "      <td>5</td>\n",
              "    </tr>\n",
              "  </tbody>\n",
              "</table>\n",
              "</div>\n",
              "    <div class=\"colab-df-buttons\">\n",
              "\n",
              "  <div class=\"colab-df-container\">\n",
              "    <button class=\"colab-df-convert\" onclick=\"convertToInteractive('df-f9855dec-df81-4937-9eba-67925b1fe1a8')\"\n",
              "            title=\"Convert this dataframe to an interactive table.\"\n",
              "            style=\"display:none;\">\n",
              "\n",
              "  <svg xmlns=\"http://www.w3.org/2000/svg\" height=\"24px\" viewBox=\"0 -960 960 960\">\n",
              "    <path d=\"M120-120v-720h720v720H120Zm60-500h600v-160H180v160Zm220 220h160v-160H400v160Zm0 220h160v-160H400v160ZM180-400h160v-160H180v160Zm440 0h160v-160H620v160ZM180-180h160v-160H180v160Zm440 0h160v-160H620v160Z\"/>\n",
              "  </svg>\n",
              "    </button>\n",
              "\n",
              "  <style>\n",
              "    .colab-df-container {\n",
              "      display:flex;\n",
              "      gap: 12px;\n",
              "    }\n",
              "\n",
              "    .colab-df-convert {\n",
              "      background-color: #E8F0FE;\n",
              "      border: none;\n",
              "      border-radius: 50%;\n",
              "      cursor: pointer;\n",
              "      display: none;\n",
              "      fill: #1967D2;\n",
              "      height: 32px;\n",
              "      padding: 0 0 0 0;\n",
              "      width: 32px;\n",
              "    }\n",
              "\n",
              "    .colab-df-convert:hover {\n",
              "      background-color: #E2EBFA;\n",
              "      box-shadow: 0px 1px 2px rgba(60, 64, 67, 0.3), 0px 1px 3px 1px rgba(60, 64, 67, 0.15);\n",
              "      fill: #174EA6;\n",
              "    }\n",
              "\n",
              "    .colab-df-buttons div {\n",
              "      margin-bottom: 4px;\n",
              "    }\n",
              "\n",
              "    [theme=dark] .colab-df-convert {\n",
              "      background-color: #3B4455;\n",
              "      fill: #D2E3FC;\n",
              "    }\n",
              "\n",
              "    [theme=dark] .colab-df-convert:hover {\n",
              "      background-color: #434B5C;\n",
              "      box-shadow: 0px 1px 3px 1px rgba(0, 0, 0, 0.15);\n",
              "      filter: drop-shadow(0px 1px 2px rgba(0, 0, 0, 0.3));\n",
              "      fill: #FFFFFF;\n",
              "    }\n",
              "  </style>\n",
              "\n",
              "    <script>\n",
              "      const buttonEl =\n",
              "        document.querySelector('#df-f9855dec-df81-4937-9eba-67925b1fe1a8 button.colab-df-convert');\n",
              "      buttonEl.style.display =\n",
              "        google.colab.kernel.accessAllowed ? 'block' : 'none';\n",
              "\n",
              "      async function convertToInteractive(key) {\n",
              "        const element = document.querySelector('#df-f9855dec-df81-4937-9eba-67925b1fe1a8');\n",
              "        const dataTable =\n",
              "          await google.colab.kernel.invokeFunction('convertToInteractive',\n",
              "                                                    [key], {});\n",
              "        if (!dataTable) return;\n",
              "\n",
              "        const docLinkHtml = 'Like what you see? Visit the ' +\n",
              "          '<a target=\"_blank\" href=https://colab.research.google.com/notebooks/data_table.ipynb>data table notebook</a>'\n",
              "          + ' to learn more about interactive tables.';\n",
              "        element.innerHTML = '';\n",
              "        dataTable['output_type'] = 'display_data';\n",
              "        await google.colab.output.renderOutput(dataTable, element);\n",
              "        const docLink = document.createElement('div');\n",
              "        docLink.innerHTML = docLinkHtml;\n",
              "        element.appendChild(docLink);\n",
              "      }\n",
              "    </script>\n",
              "  </div>\n",
              "\n",
              "\n",
              "    <div id=\"df-b9d8eed9-7b02-4e1c-8e54-d81c5d1d9122\">\n",
              "      <button class=\"colab-df-quickchart\" onclick=\"quickchart('df-b9d8eed9-7b02-4e1c-8e54-d81c5d1d9122')\"\n",
              "                title=\"Suggest charts\"\n",
              "                style=\"display:none;\">\n",
              "\n",
              "<svg xmlns=\"http://www.w3.org/2000/svg\" height=\"24px\"viewBox=\"0 0 24 24\"\n",
              "     width=\"24px\">\n",
              "    <g>\n",
              "        <path d=\"M19 3H5c-1.1 0-2 .9-2 2v14c0 1.1.9 2 2 2h14c1.1 0 2-.9 2-2V5c0-1.1-.9-2-2-2zM9 17H7v-7h2v7zm4 0h-2V7h2v10zm4 0h-2v-4h2v4z\"/>\n",
              "    </g>\n",
              "</svg>\n",
              "      </button>\n",
              "\n",
              "<style>\n",
              "  .colab-df-quickchart {\n",
              "      --bg-color: #E8F0FE;\n",
              "      --fill-color: #1967D2;\n",
              "      --hover-bg-color: #E2EBFA;\n",
              "      --hover-fill-color: #174EA6;\n",
              "      --disabled-fill-color: #AAA;\n",
              "      --disabled-bg-color: #DDD;\n",
              "  }\n",
              "\n",
              "  [theme=dark] .colab-df-quickchart {\n",
              "      --bg-color: #3B4455;\n",
              "      --fill-color: #D2E3FC;\n",
              "      --hover-bg-color: #434B5C;\n",
              "      --hover-fill-color: #FFFFFF;\n",
              "      --disabled-bg-color: #3B4455;\n",
              "      --disabled-fill-color: #666;\n",
              "  }\n",
              "\n",
              "  .colab-df-quickchart {\n",
              "    background-color: var(--bg-color);\n",
              "    border: none;\n",
              "    border-radius: 50%;\n",
              "    cursor: pointer;\n",
              "    display: none;\n",
              "    fill: var(--fill-color);\n",
              "    height: 32px;\n",
              "    padding: 0;\n",
              "    width: 32px;\n",
              "  }\n",
              "\n",
              "  .colab-df-quickchart:hover {\n",
              "    background-color: var(--hover-bg-color);\n",
              "    box-shadow: 0 1px 2px rgba(60, 64, 67, 0.3), 0 1px 3px 1px rgba(60, 64, 67, 0.15);\n",
              "    fill: var(--button-hover-fill-color);\n",
              "  }\n",
              "\n",
              "  .colab-df-quickchart-complete:disabled,\n",
              "  .colab-df-quickchart-complete:disabled:hover {\n",
              "    background-color: var(--disabled-bg-color);\n",
              "    fill: var(--disabled-fill-color);\n",
              "    box-shadow: none;\n",
              "  }\n",
              "\n",
              "  .colab-df-spinner {\n",
              "    border: 2px solid var(--fill-color);\n",
              "    border-color: transparent;\n",
              "    border-bottom-color: var(--fill-color);\n",
              "    animation:\n",
              "      spin 1s steps(1) infinite;\n",
              "  }\n",
              "\n",
              "  @keyframes spin {\n",
              "    0% {\n",
              "      border-color: transparent;\n",
              "      border-bottom-color: var(--fill-color);\n",
              "      border-left-color: var(--fill-color);\n",
              "    }\n",
              "    20% {\n",
              "      border-color: transparent;\n",
              "      border-left-color: var(--fill-color);\n",
              "      border-top-color: var(--fill-color);\n",
              "    }\n",
              "    30% {\n",
              "      border-color: transparent;\n",
              "      border-left-color: var(--fill-color);\n",
              "      border-top-color: var(--fill-color);\n",
              "      border-right-color: var(--fill-color);\n",
              "    }\n",
              "    40% {\n",
              "      border-color: transparent;\n",
              "      border-right-color: var(--fill-color);\n",
              "      border-top-color: var(--fill-color);\n",
              "    }\n",
              "    60% {\n",
              "      border-color: transparent;\n",
              "      border-right-color: var(--fill-color);\n",
              "    }\n",
              "    80% {\n",
              "      border-color: transparent;\n",
              "      border-right-color: var(--fill-color);\n",
              "      border-bottom-color: var(--fill-color);\n",
              "    }\n",
              "    90% {\n",
              "      border-color: transparent;\n",
              "      border-bottom-color: var(--fill-color);\n",
              "    }\n",
              "  }\n",
              "</style>\n",
              "\n",
              "      <script>\n",
              "        async function quickchart(key) {\n",
              "          const quickchartButtonEl =\n",
              "            document.querySelector('#' + key + ' button');\n",
              "          quickchartButtonEl.disabled = true;  // To prevent multiple clicks.\n",
              "          quickchartButtonEl.classList.add('colab-df-spinner');\n",
              "          try {\n",
              "            const charts = await google.colab.kernel.invokeFunction(\n",
              "                'suggestCharts', [key], {});\n",
              "          } catch (error) {\n",
              "            console.error('Error during call to suggestCharts:', error);\n",
              "          }\n",
              "          quickchartButtonEl.classList.remove('colab-df-spinner');\n",
              "          quickchartButtonEl.classList.add('colab-df-quickchart-complete');\n",
              "        }\n",
              "        (() => {\n",
              "          let quickchartButtonEl =\n",
              "            document.querySelector('#df-b9d8eed9-7b02-4e1c-8e54-d81c5d1d9122 button');\n",
              "          quickchartButtonEl.style.display =\n",
              "            google.colab.kernel.accessAllowed ? 'block' : 'none';\n",
              "        })();\n",
              "      </script>\n",
              "    </div>\n",
              "\n",
              "    </div>\n",
              "  </div>\n"
            ],
            "application/vnd.google.colaboratory.intrinsic+json": {
              "type": "dataframe",
              "variable_name": "df",
              "summary": "{\n  \"name\": \"df\",\n  \"rows\": 1000,\n  \"fields\": [\n    {\n      \"column\": \"Title\",\n      \"properties\": {\n        \"dtype\": \"string\",\n        \"num_unique_values\": 999,\n        \"samples\": [\n          \"The Grownup\",\n          \"Persepolis: The Story of a Childhood (Persepolis #1-2)\",\n          \"Ayumi's Violin\"\n        ],\n        \"semantic_type\": \"\",\n        \"description\": \"\"\n      }\n    },\n    {\n      \"column\": \"Price\",\n      \"properties\": {\n        \"dtype\": \"number\",\n        \"std\": 14.446689669952772,\n        \"min\": 10.0,\n        \"max\": 59.99,\n        \"num_unique_values\": 903,\n        \"samples\": [\n          19.73,\n          55.65,\n          46.31\n        ],\n        \"semantic_type\": \"\",\n        \"description\": \"\"\n      }\n    },\n    {\n      \"column\": \"Availability\",\n      \"properties\": {\n        \"dtype\": \"category\",\n        \"num_unique_values\": 1,\n        \"samples\": [\n          \"In stock\"\n        ],\n        \"semantic_type\": \"\",\n        \"description\": \"\"\n      }\n    },\n    {\n      \"column\": \"Rating\",\n      \"properties\": {\n        \"dtype\": \"number\",\n        \"std\": 1,\n        \"min\": 1,\n        \"max\": 5,\n        \"num_unique_values\": 5,\n        \"samples\": [\n          1\n        ],\n        \"semantic_type\": \"\",\n        \"description\": \"\"\n      }\n    }\n  ]\n}"
            }
          },
          "metadata": {},
          "execution_count": 7
        }
      ]
    },
    {
      "cell_type": "code",
      "source": [
        "df.shape\n",
        "df.info()\n",
        "df.describe()"
      ],
      "metadata": {
        "colab": {
          "base_uri": "https://localhost:8080/",
          "height": 491
        },
        "id": "juZZSWy7yw3Z",
        "outputId": "a7e13dbb-9e77-4b5b-d54f-5a0e320fa5e9"
      },
      "execution_count": 9,
      "outputs": [
        {
          "output_type": "stream",
          "name": "stdout",
          "text": [
            "<class 'pandas.core.frame.DataFrame'>\n",
            "RangeIndex: 1000 entries, 0 to 999\n",
            "Data columns (total 4 columns):\n",
            " #   Column        Non-Null Count  Dtype  \n",
            "---  ------        --------------  -----  \n",
            " 0   Title         1000 non-null   object \n",
            " 1   Price         1000 non-null   float64\n",
            " 2   Availability  1000 non-null   object \n",
            " 3   Rating        1000 non-null   int64  \n",
            "dtypes: float64(1), int64(1), object(2)\n",
            "memory usage: 31.4+ KB\n"
          ]
        },
        {
          "output_type": "execute_result",
          "data": {
            "text/plain": [
              "            Price       Rating\n",
              "count  1000.00000  1000.000000\n",
              "mean     35.07035     2.923000\n",
              "std      14.44669     1.434967\n",
              "min      10.00000     1.000000\n",
              "25%      22.10750     2.000000\n",
              "50%      35.98000     3.000000\n",
              "75%      47.45750     4.000000\n",
              "max      59.99000     5.000000"
            ],
            "text/html": [
              "\n",
              "  <div id=\"df-ac9baa5d-f3b4-4370-a341-1903cfee4add\" class=\"colab-df-container\">\n",
              "    <div>\n",
              "<style scoped>\n",
              "    .dataframe tbody tr th:only-of-type {\n",
              "        vertical-align: middle;\n",
              "    }\n",
              "\n",
              "    .dataframe tbody tr th {\n",
              "        vertical-align: top;\n",
              "    }\n",
              "\n",
              "    .dataframe thead th {\n",
              "        text-align: right;\n",
              "    }\n",
              "</style>\n",
              "<table border=\"1\" class=\"dataframe\">\n",
              "  <thead>\n",
              "    <tr style=\"text-align: right;\">\n",
              "      <th></th>\n",
              "      <th>Price</th>\n",
              "      <th>Rating</th>\n",
              "    </tr>\n",
              "  </thead>\n",
              "  <tbody>\n",
              "    <tr>\n",
              "      <th>count</th>\n",
              "      <td>1000.00000</td>\n",
              "      <td>1000.000000</td>\n",
              "    </tr>\n",
              "    <tr>\n",
              "      <th>mean</th>\n",
              "      <td>35.07035</td>\n",
              "      <td>2.923000</td>\n",
              "    </tr>\n",
              "    <tr>\n",
              "      <th>std</th>\n",
              "      <td>14.44669</td>\n",
              "      <td>1.434967</td>\n",
              "    </tr>\n",
              "    <tr>\n",
              "      <th>min</th>\n",
              "      <td>10.00000</td>\n",
              "      <td>1.000000</td>\n",
              "    </tr>\n",
              "    <tr>\n",
              "      <th>25%</th>\n",
              "      <td>22.10750</td>\n",
              "      <td>2.000000</td>\n",
              "    </tr>\n",
              "    <tr>\n",
              "      <th>50%</th>\n",
              "      <td>35.98000</td>\n",
              "      <td>3.000000</td>\n",
              "    </tr>\n",
              "    <tr>\n",
              "      <th>75%</th>\n",
              "      <td>47.45750</td>\n",
              "      <td>4.000000</td>\n",
              "    </tr>\n",
              "    <tr>\n",
              "      <th>max</th>\n",
              "      <td>59.99000</td>\n",
              "      <td>5.000000</td>\n",
              "    </tr>\n",
              "  </tbody>\n",
              "</table>\n",
              "</div>\n",
              "    <div class=\"colab-df-buttons\">\n",
              "\n",
              "  <div class=\"colab-df-container\">\n",
              "    <button class=\"colab-df-convert\" onclick=\"convertToInteractive('df-ac9baa5d-f3b4-4370-a341-1903cfee4add')\"\n",
              "            title=\"Convert this dataframe to an interactive table.\"\n",
              "            style=\"display:none;\">\n",
              "\n",
              "  <svg xmlns=\"http://www.w3.org/2000/svg\" height=\"24px\" viewBox=\"0 -960 960 960\">\n",
              "    <path d=\"M120-120v-720h720v720H120Zm60-500h600v-160H180v160Zm220 220h160v-160H400v160Zm0 220h160v-160H400v160ZM180-400h160v-160H180v160Zm440 0h160v-160H620v160ZM180-180h160v-160H180v160Zm440 0h160v-160H620v160Z\"/>\n",
              "  </svg>\n",
              "    </button>\n",
              "\n",
              "  <style>\n",
              "    .colab-df-container {\n",
              "      display:flex;\n",
              "      gap: 12px;\n",
              "    }\n",
              "\n",
              "    .colab-df-convert {\n",
              "      background-color: #E8F0FE;\n",
              "      border: none;\n",
              "      border-radius: 50%;\n",
              "      cursor: pointer;\n",
              "      display: none;\n",
              "      fill: #1967D2;\n",
              "      height: 32px;\n",
              "      padding: 0 0 0 0;\n",
              "      width: 32px;\n",
              "    }\n",
              "\n",
              "    .colab-df-convert:hover {\n",
              "      background-color: #E2EBFA;\n",
              "      box-shadow: 0px 1px 2px rgba(60, 64, 67, 0.3), 0px 1px 3px 1px rgba(60, 64, 67, 0.15);\n",
              "      fill: #174EA6;\n",
              "    }\n",
              "\n",
              "    .colab-df-buttons div {\n",
              "      margin-bottom: 4px;\n",
              "    }\n",
              "\n",
              "    [theme=dark] .colab-df-convert {\n",
              "      background-color: #3B4455;\n",
              "      fill: #D2E3FC;\n",
              "    }\n",
              "\n",
              "    [theme=dark] .colab-df-convert:hover {\n",
              "      background-color: #434B5C;\n",
              "      box-shadow: 0px 1px 3px 1px rgba(0, 0, 0, 0.15);\n",
              "      filter: drop-shadow(0px 1px 2px rgba(0, 0, 0, 0.3));\n",
              "      fill: #FFFFFF;\n",
              "    }\n",
              "  </style>\n",
              "\n",
              "    <script>\n",
              "      const buttonEl =\n",
              "        document.querySelector('#df-ac9baa5d-f3b4-4370-a341-1903cfee4add button.colab-df-convert');\n",
              "      buttonEl.style.display =\n",
              "        google.colab.kernel.accessAllowed ? 'block' : 'none';\n",
              "\n",
              "      async function convertToInteractive(key) {\n",
              "        const element = document.querySelector('#df-ac9baa5d-f3b4-4370-a341-1903cfee4add');\n",
              "        const dataTable =\n",
              "          await google.colab.kernel.invokeFunction('convertToInteractive',\n",
              "                                                    [key], {});\n",
              "        if (!dataTable) return;\n",
              "\n",
              "        const docLinkHtml = 'Like what you see? Visit the ' +\n",
              "          '<a target=\"_blank\" href=https://colab.research.google.com/notebooks/data_table.ipynb>data table notebook</a>'\n",
              "          + ' to learn more about interactive tables.';\n",
              "        element.innerHTML = '';\n",
              "        dataTable['output_type'] = 'display_data';\n",
              "        await google.colab.output.renderOutput(dataTable, element);\n",
              "        const docLink = document.createElement('div');\n",
              "        docLink.innerHTML = docLinkHtml;\n",
              "        element.appendChild(docLink);\n",
              "      }\n",
              "    </script>\n",
              "  </div>\n",
              "\n",
              "\n",
              "    <div id=\"df-1d9533cf-c5d1-4ab2-ad24-a3e0781b2f8e\">\n",
              "      <button class=\"colab-df-quickchart\" onclick=\"quickchart('df-1d9533cf-c5d1-4ab2-ad24-a3e0781b2f8e')\"\n",
              "                title=\"Suggest charts\"\n",
              "                style=\"display:none;\">\n",
              "\n",
              "<svg xmlns=\"http://www.w3.org/2000/svg\" height=\"24px\"viewBox=\"0 0 24 24\"\n",
              "     width=\"24px\">\n",
              "    <g>\n",
              "        <path d=\"M19 3H5c-1.1 0-2 .9-2 2v14c0 1.1.9 2 2 2h14c1.1 0 2-.9 2-2V5c0-1.1-.9-2-2-2zM9 17H7v-7h2v7zm4 0h-2V7h2v10zm4 0h-2v-4h2v4z\"/>\n",
              "    </g>\n",
              "</svg>\n",
              "      </button>\n",
              "\n",
              "<style>\n",
              "  .colab-df-quickchart {\n",
              "      --bg-color: #E8F0FE;\n",
              "      --fill-color: #1967D2;\n",
              "      --hover-bg-color: #E2EBFA;\n",
              "      --hover-fill-color: #174EA6;\n",
              "      --disabled-fill-color: #AAA;\n",
              "      --disabled-bg-color: #DDD;\n",
              "  }\n",
              "\n",
              "  [theme=dark] .colab-df-quickchart {\n",
              "      --bg-color: #3B4455;\n",
              "      --fill-color: #D2E3FC;\n",
              "      --hover-bg-color: #434B5C;\n",
              "      --hover-fill-color: #FFFFFF;\n",
              "      --disabled-bg-color: #3B4455;\n",
              "      --disabled-fill-color: #666;\n",
              "  }\n",
              "\n",
              "  .colab-df-quickchart {\n",
              "    background-color: var(--bg-color);\n",
              "    border: none;\n",
              "    border-radius: 50%;\n",
              "    cursor: pointer;\n",
              "    display: none;\n",
              "    fill: var(--fill-color);\n",
              "    height: 32px;\n",
              "    padding: 0;\n",
              "    width: 32px;\n",
              "  }\n",
              "\n",
              "  .colab-df-quickchart:hover {\n",
              "    background-color: var(--hover-bg-color);\n",
              "    box-shadow: 0 1px 2px rgba(60, 64, 67, 0.3), 0 1px 3px 1px rgba(60, 64, 67, 0.15);\n",
              "    fill: var(--button-hover-fill-color);\n",
              "  }\n",
              "\n",
              "  .colab-df-quickchart-complete:disabled,\n",
              "  .colab-df-quickchart-complete:disabled:hover {\n",
              "    background-color: var(--disabled-bg-color);\n",
              "    fill: var(--disabled-fill-color);\n",
              "    box-shadow: none;\n",
              "  }\n",
              "\n",
              "  .colab-df-spinner {\n",
              "    border: 2px solid var(--fill-color);\n",
              "    border-color: transparent;\n",
              "    border-bottom-color: var(--fill-color);\n",
              "    animation:\n",
              "      spin 1s steps(1) infinite;\n",
              "  }\n",
              "\n",
              "  @keyframes spin {\n",
              "    0% {\n",
              "      border-color: transparent;\n",
              "      border-bottom-color: var(--fill-color);\n",
              "      border-left-color: var(--fill-color);\n",
              "    }\n",
              "    20% {\n",
              "      border-color: transparent;\n",
              "      border-left-color: var(--fill-color);\n",
              "      border-top-color: var(--fill-color);\n",
              "    }\n",
              "    30% {\n",
              "      border-color: transparent;\n",
              "      border-left-color: var(--fill-color);\n",
              "      border-top-color: var(--fill-color);\n",
              "      border-right-color: var(--fill-color);\n",
              "    }\n",
              "    40% {\n",
              "      border-color: transparent;\n",
              "      border-right-color: var(--fill-color);\n",
              "      border-top-color: var(--fill-color);\n",
              "    }\n",
              "    60% {\n",
              "      border-color: transparent;\n",
              "      border-right-color: var(--fill-color);\n",
              "    }\n",
              "    80% {\n",
              "      border-color: transparent;\n",
              "      border-right-color: var(--fill-color);\n",
              "      border-bottom-color: var(--fill-color);\n",
              "    }\n",
              "    90% {\n",
              "      border-color: transparent;\n",
              "      border-bottom-color: var(--fill-color);\n",
              "    }\n",
              "  }\n",
              "</style>\n",
              "\n",
              "      <script>\n",
              "        async function quickchart(key) {\n",
              "          const quickchartButtonEl =\n",
              "            document.querySelector('#' + key + ' button');\n",
              "          quickchartButtonEl.disabled = true;  // To prevent multiple clicks.\n",
              "          quickchartButtonEl.classList.add('colab-df-spinner');\n",
              "          try {\n",
              "            const charts = await google.colab.kernel.invokeFunction(\n",
              "                'suggestCharts', [key], {});\n",
              "          } catch (error) {\n",
              "            console.error('Error during call to suggestCharts:', error);\n",
              "          }\n",
              "          quickchartButtonEl.classList.remove('colab-df-spinner');\n",
              "          quickchartButtonEl.classList.add('colab-df-quickchart-complete');\n",
              "        }\n",
              "        (() => {\n",
              "          let quickchartButtonEl =\n",
              "            document.querySelector('#df-1d9533cf-c5d1-4ab2-ad24-a3e0781b2f8e button');\n",
              "          quickchartButtonEl.style.display =\n",
              "            google.colab.kernel.accessAllowed ? 'block' : 'none';\n",
              "        })();\n",
              "      </script>\n",
              "    </div>\n",
              "\n",
              "    </div>\n",
              "  </div>\n"
            ],
            "application/vnd.google.colaboratory.intrinsic+json": {
              "type": "dataframe",
              "summary": "{\n  \"name\": \"df\",\n  \"rows\": 8,\n  \"fields\": [\n    {\n      \"column\": \"Price\",\n      \"properties\": {\n        \"dtype\": \"number\",\n        \"std\": 342.59073671210575,\n        \"min\": 10.0,\n        \"max\": 1000.0,\n        \"num_unique_values\": 8,\n        \"samples\": [\n          35.07035,\n          35.980000000000004,\n          1000.0\n        ],\n        \"semantic_type\": \"\",\n        \"description\": \"\"\n      }\n    },\n    {\n      \"column\": \"Rating\",\n      \"properties\": {\n        \"dtype\": \"number\",\n        \"std\": 352.5781108922889,\n        \"min\": 1.0,\n        \"max\": 1000.0,\n        \"num_unique_values\": 8,\n        \"samples\": [\n          2.923,\n          3.0,\n          1000.0\n        ],\n        \"semantic_type\": \"\",\n        \"description\": \"\"\n      }\n    }\n  ]\n}"
            }
          },
          "metadata": {},
          "execution_count": 9
        }
      ]
    },
    {
      "cell_type": "markdown",
      "source": [
        "**Check for Missing Values**"
      ],
      "metadata": {
        "id": "k4Pgc11UzEhu"
      }
    },
    {
      "cell_type": "code",
      "source": [
        "df.isnull().sum()"
      ],
      "metadata": {
        "colab": {
          "base_uri": "https://localhost:8080/",
          "height": 209
        },
        "id": "pfrprhiczDOE",
        "outputId": "990e7636-21a3-4227-e056-6dad0ac6c4c7"
      },
      "execution_count": 10,
      "outputs": [
        {
          "output_type": "execute_result",
          "data": {
            "text/plain": [
              "Title           0\n",
              "Price           0\n",
              "Availability    0\n",
              "Rating          0\n",
              "dtype: int64"
            ],
            "text/html": [
              "<div>\n",
              "<style scoped>\n",
              "    .dataframe tbody tr th:only-of-type {\n",
              "        vertical-align: middle;\n",
              "    }\n",
              "\n",
              "    .dataframe tbody tr th {\n",
              "        vertical-align: top;\n",
              "    }\n",
              "\n",
              "    .dataframe thead th {\n",
              "        text-align: right;\n",
              "    }\n",
              "</style>\n",
              "<table border=\"1\" class=\"dataframe\">\n",
              "  <thead>\n",
              "    <tr style=\"text-align: right;\">\n",
              "      <th></th>\n",
              "      <th>0</th>\n",
              "    </tr>\n",
              "  </thead>\n",
              "  <tbody>\n",
              "    <tr>\n",
              "      <th>Title</th>\n",
              "      <td>0</td>\n",
              "    </tr>\n",
              "    <tr>\n",
              "      <th>Price</th>\n",
              "      <td>0</td>\n",
              "    </tr>\n",
              "    <tr>\n",
              "      <th>Availability</th>\n",
              "      <td>0</td>\n",
              "    </tr>\n",
              "    <tr>\n",
              "      <th>Rating</th>\n",
              "      <td>0</td>\n",
              "    </tr>\n",
              "  </tbody>\n",
              "</table>\n",
              "</div><br><label><b>dtype:</b> int64</label>"
            ]
          },
          "metadata": {},
          "execution_count": 10
        }
      ]
    },
    {
      "cell_type": "markdown",
      "source": [
        "**Check Duplicates**"
      ],
      "metadata": {
        "id": "roCORAFrzO2T"
      }
    },
    {
      "cell_type": "code",
      "source": [
        "df.duplicated().sum()\n",
        "df.drop_duplicates(inplace=True)"
      ],
      "metadata": {
        "id": "7kMdisF3zQcK"
      },
      "execution_count": 11,
      "outputs": []
    },
    {
      "cell_type": "markdown",
      "source": [
        "## 📊 Exploratory Data Analysis"
      ],
      "metadata": {
        "id": "ls0qQ47b2Q-e"
      }
    },
    {
      "cell_type": "markdown",
      "source": [
        "**Value Counts for Categorical Columns:**"
      ],
      "metadata": {
        "id": "xRLgKHF-zhuF"
      }
    },
    {
      "cell_type": "code",
      "source": [
        "df[\"Rating\"].value_counts()\n",
        "df[\"Availability\"].value_counts()"
      ],
      "metadata": {
        "colab": {
          "base_uri": "https://localhost:8080/",
          "height": 147
        },
        "id": "uRwZrTRuzlWc",
        "outputId": "90f39ac5-9a00-4b05-ae7d-8d52f3c84e8c"
      },
      "execution_count": 12,
      "outputs": [
        {
          "output_type": "execute_result",
          "data": {
            "text/plain": [
              "Availability\n",
              "In stock    1000\n",
              "Name: count, dtype: int64"
            ],
            "text/html": [
              "<div>\n",
              "<style scoped>\n",
              "    .dataframe tbody tr th:only-of-type {\n",
              "        vertical-align: middle;\n",
              "    }\n",
              "\n",
              "    .dataframe tbody tr th {\n",
              "        vertical-align: top;\n",
              "    }\n",
              "\n",
              "    .dataframe thead th {\n",
              "        text-align: right;\n",
              "    }\n",
              "</style>\n",
              "<table border=\"1\" class=\"dataframe\">\n",
              "  <thead>\n",
              "    <tr style=\"text-align: right;\">\n",
              "      <th></th>\n",
              "      <th>count</th>\n",
              "    </tr>\n",
              "    <tr>\n",
              "      <th>Availability</th>\n",
              "      <th></th>\n",
              "    </tr>\n",
              "  </thead>\n",
              "  <tbody>\n",
              "    <tr>\n",
              "      <th>In stock</th>\n",
              "      <td>1000</td>\n",
              "    </tr>\n",
              "  </tbody>\n",
              "</table>\n",
              "</div><br><label><b>dtype:</b> int64</label>"
            ]
          },
          "metadata": {},
          "execution_count": 12
        }
      ]
    },
    {
      "cell_type": "markdown",
      "source": [
        "**Price Distribution Plot:**"
      ],
      "metadata": {
        "id": "4H7pwQ232xiV"
      }
    },
    {
      "cell_type": "code",
      "source": [
        "import matplotlib.pyplot as plt\n",
        "import seaborn as sns\n",
        "\n",
        "plt.figure(figsize=(10,6))\n",
        "sns.histplot(df[\"Price\"], bins=30, kde=True)\n",
        "plt.title(\"Distribution of Book Prices\")\n",
        "plt.xlabel(\"Price (£)\")\n",
        "plt.ylabel(\"Count\")\n",
        "plt.show()"
      ],
      "metadata": {
        "colab": {
          "base_uri": "https://localhost:8080/",
          "height": 564
        },
        "id": "LEVj2pBu25EC",
        "outputId": "3de239a3-223f-4088-c5f9-39ba34b649fa"
      },
      "execution_count": 13,
      "outputs": [
        {
          "output_type": "display_data",
          "data": {
            "text/plain": [
              "<Figure size 1000x600 with 1 Axes>"
            ],
            "image/png": "[encoded data removed]"
          },
          "metadata": {}
        }
      ]
    },
    {
      "cell_type": "markdown",
      "source": [
        "**Ratings Distribution**"
      ],
      "metadata": {
        "id": "l_ShMW3T4rmN"
      }
    },
    {
      "cell_type": "code",
      "source": [
        "plt.figure(figsize=(8,5))\n",
        "sns.countplot(x=\"Rating\", data=df, color=\"b\")\n",
        "plt.title(\"Count of Books by Rating\")\n",
        "plt.xlabel(\"Rating (Stars)\")\n",
        "plt.ylabel(\"Number of Books\")\n",
        "plt.show()"
      ],
      "metadata": {
        "colab": {
          "base_uri": "https://localhost:8080/",
          "height": 487
        },
        "id": "iFjiKwGG4vTL",
        "outputId": "8330fcef-2b56-46b2-e39d-0957f69be508"
      },
      "execution_count": 14,
      "outputs": [
        {
          "output_type": "display_data",
          "data": {
            "text/plain": [
              "<Figure size 800x500 with 1 Axes>"
            ],
            "image/png": "[encoded data removed]"
          },
          "metadata": {}
        }
      ]
    },
    {
      "cell_type": "markdown",
      "source": [
        "**Price vs. Rating**"
      ],
      "metadata": {
        "id": "D6DlUG5R3VeC"
      }
    },
    {
      "cell_type": "code",
      "source": [
        "plt.figure(figsize=(10,6))\n",
        "sns.boxplot(x=\"Rating\", y=\"Price\", data=df)\n",
        "plt.title(\"Price Distribution by Book Rating\")\n",
        "plt.xlabel(\"Rating\")\n",
        "plt.ylabel(\"Price (£)\")\n",
        "plt.show()"
      ],
      "metadata": {
        "colab": {
          "base_uri": "https://localhost:8080/",
          "height": 564
        },
        "id": "bkTdycMi6aBi",
        "outputId": "32726fa7-7417-477d-b415-0dd8cd93b4b5"
      },
      "execution_count": 15,
      "outputs": [
        {
          "output_type": "display_data",
          "data": {
            "text/plain": [
              "<Figure size 1000x600 with 1 Axes>"
            ],
            "image/png": "[encoded data removed]"
          },
          "metadata": {}
        }
      ]
    },
    {
      "cell_type": "markdown",
      "source": [
        "**Availability Analysis**"
      ],
      "metadata": {
        "id": "DhyhkDHk6j6T"
      }
    },
    {
      "cell_type": "code",
      "source": [
        "df[\"Availability\"].unique()"
      ],
      "metadata": {
        "colab": {
          "base_uri": "https://localhost:8080/",
          "height": 0
        },
        "id": "xsHfu6PL6jMN",
        "outputId": "09c5be72-d6a8-4dfb-920a-6a3ab72c2f99"
      },
      "execution_count": 16,
      "outputs": [
        {
          "output_type": "execute_result",
          "data": {
            "text/plain": [
              "array(['In stock'], dtype=object)"
            ]
          },
          "metadata": {},
          "execution_count": 16
        }
      ]
    },
    {
      "cell_type": "code",
      "source": [
        "# Convert to \"In Stock\" / \"Out of Stock\" text\n",
        "df[\"In_Stock\"] = df[\"Availability\"].apply(\n",
        "    lambda x: \"In Stock\" if \"In stock\" in x else \"Out of Stock\"\n",
        ")\n",
        "\n",
        "# Make categorical (optional)\n",
        "df[\"In_Stock\"] = pd.Categorical(\n",
        "    df[\"In_Stock\"],\n",
        "    categories=[\"Out of Stock\", \"In Stock\"]\n",
        ")\n"
      ],
      "metadata": {
        "id": "DHqIWVU27KYZ"
      },
      "execution_count": 25,
      "outputs": []
    },
    {
      "cell_type": "code",
      "source": [
        "plt.figure(figsize=(6,4))\n",
        "sns.countplot(x=\"In_Stock\", data=df, color=\"r\")\n",
        "plt.title(\"Books In Stock vs Out of Stock\")\n",
        "plt.xlabel(\"Availability\")\n",
        "plt.ylabel(\"Number of Books\")\n",
        "plt.show()"
      ],
      "metadata": {
        "colab": {
          "base_uri": "https://localhost:8080/",
          "height": 410
        },
        "id": "q0C3V6zI7PMz",
        "outputId": "d1771fbd-c8b7-4e76-ba47-8cbed0e66d3f"
      },
      "execution_count": 26,
      "outputs": [
        {
          "output_type": "display_data",
          "data": {
            "text/plain": [
              "<Figure size 600x400 with 1 Axes>"
            ],
            "image/png": "[encoded data removed]"
          },
          "metadata": {}
        }
      ]
    },
    {
      "cell_type": "markdown",
      "source": [
        "**Most Expensive Books**"
      ],
      "metadata": {
        "id": "Q_lG00Oy-JJW"
      }
    },
    {
      "cell_type": "code",
      "source": [
        "df.sort_values(by=\"Price\", ascending=False).head(10)"
      ],
      "metadata": {
        "colab": {
          "base_uri": "https://localhost:8080/",
          "height": 363
        },
        "id": "lsBPvUWQ-QsI",
        "outputId": "a177c64c-4dec-4345-8813-a82080ff76d0"
      },
      "execution_count": 20,
      "outputs": [
        {
          "output_type": "execute_result",
          "data": {
            "text/plain": [
              "                                                 Title  Price Availability  \\\n",
              "648                 The Perfect Play (Play by Play #1)  59.99     In stock   \n",
              "617                  Last One Home (New Beginnings #1)  59.98     In stock   \n",
              "860                   Civilization and Its Discontents  59.95     In stock   \n",
              "560                     The Barefoot Contessa Cookbook  59.92     In stock   \n",
              "366                          The Diary of a Young Girl  59.90     In stock   \n",
              "657  The Bone Hunters (Lexy Vaughan & Steven Macaul...  59.71     In stock   \n",
              "133  Thomas Jefferson and the Tripoli Pirates: The ...  59.64     In stock   \n",
              "387                      Boar Island (Anna Pigeon #19)  59.48     In stock   \n",
              "549  The Man Who Mistook His Wife for a Hat and Oth...  59.45     In stock   \n",
              "393                          The Improbability of Love  59.45     In stock   \n",
              "\n",
              "     Rating In_Stock  \n",
              "648       3      NaN  \n",
              "617       3      NaN  \n",
              "860       2      NaN  \n",
              "560       5      NaN  \n",
              "366       3      NaN  \n",
              "657       3      NaN  \n",
              "133       1      NaN  \n",
              "387       3      NaN  \n",
              "549       4      NaN  \n",
              "393       1      NaN  "
            ],
            "text/html": [
              "\n",
              "  <div id=\"df-d5eaaf22-cebd-4ebb-9aa1-0ee6b141a7cd\" class=\"colab-df-container\">\n",
              "    <div>\n",
              "<style scoped>\n",
              "    .dataframe tbody tr th:only-of-type {\n",
              "        vertical-align: middle;\n",
              "    }\n",
              "\n",
              "    .dataframe tbody tr th {\n",
              "        vertical-align: top;\n",
              "    }\n",
              "\n",
              "    .dataframe thead th {\n",
              "        text-align: right;\n",
              "    }\n",
              "</style>\n",
              "<table border=\"1\" class=\"dataframe\">\n",
              "  <thead>\n",
              "    <tr style=\"text-align: right;\">\n",
              "      <th></th>\n",
              "      <th>Title</th>\n",
              "      <th>Price</th>\n",
              "      <th>Availability</th>\n",
              "      <th>Rating</th>\n",
              "      <th>In_Stock</th>\n",
              "    </tr>\n",
              "  </thead>\n",
              "  <tbody>\n",
              "    <tr>\n",
              "      <th>648</th>\n",
              "      <td>The Perfect Play (Play by Play #1)</td>\n",
              "      <td>59.99</td>\n",
              "      <td>In stock</td>\n",
              "      <td>3</td>\n",
              "      <td>NaN</td>\n",
              "    </tr>\n",
              "    <tr>\n",
              "      <th>617</th>\n",
              "      <td>Last One Home (New Beginnings #1)</td>\n",
              "      <td>59.98</td>\n",
              "      <td>In stock</td>\n",
              "      <td>3</td>\n",
              "      <td>NaN</td>\n",
              "    </tr>\n",
              "    <tr>\n",
              "      <th>860</th>\n",
              "      <td>Civilization and Its Discontents</td>\n",
              "      <td>59.95</td>\n",
              "      <td>In stock</td>\n",
              "      <td>2</td>\n",
              "      <td>NaN</td>\n",
              "    </tr>\n",
              "    <tr>\n",
              "      <th>560</th>\n",
              "      <td>The Barefoot Contessa Cookbook</td>\n",
              "      <td>59.92</td>\n",
              "      <td>In stock</td>\n",
              "      <td>5</td>\n",
              "      <td>NaN</td>\n",
              "    </tr>\n",
              "    <tr>\n",
              "      <th>366</th>\n",
              "      <td>The Diary of a Young Girl</td>\n",
              "      <td>59.90</td>\n",
              "      <td>In stock</td>\n",
              "      <td>3</td>\n",
              "      <td>NaN</td>\n",
              "    </tr>\n",
              "    <tr>\n",
              "      <th>657</th>\n",
              "      <td>The Bone Hunters (Lexy Vaughan &amp; Steven Macaul...</td>\n",
              "      <td>59.71</td>\n",
              "      <td>In stock</td>\n",
              "      <td>3</td>\n",
              "      <td>NaN</td>\n",
              "    </tr>\n",
              "    <tr>\n",
              "      <th>133</th>\n",
              "      <td>Thomas Jefferson and the Tripoli Pirates: The ...</td>\n",
              "      <td>59.64</td>\n",
              "      <td>In stock</td>\n",
              "      <td>1</td>\n",
              "      <td>NaN</td>\n",
              "    </tr>\n",
              "    <tr>\n",
              "      <th>387</th>\n",
              "      <td>Boar Island (Anna Pigeon #19)</td>\n",
              "      <td>59.48</td>\n",
              "      <td>In stock</td>\n",
              "      <td>3</td>\n",
              "      <td>NaN</td>\n",
              "    </tr>\n",
              "    <tr>\n",
              "      <th>549</th>\n",
              "      <td>The Man Who Mistook His Wife for a Hat and Oth...</td>\n",
              "      <td>59.45</td>\n",
              "      <td>In stock</td>\n",
              "      <td>4</td>\n",
              "      <td>NaN</td>\n",
              "    </tr>\n",
              "    <tr>\n",
              "      <th>393</th>\n",
              "      <td>The Improbability of Love</td>\n",
              "      <td>59.45</td>\n",
              "      <td>In stock</td>\n",
              "      <td>1</td>\n",
              "      <td>NaN</td>\n",
              "    </tr>\n",
              "  </tbody>\n",
              "</table>\n",
              "</div>\n",
              "    <div class=\"colab-df-buttons\">\n",
              "\n",
              "  <div class=\"colab-df-container\">\n",
              "    <button class=\"colab-df-convert\" onclick=\"convertToInteractive('df-d5eaaf22-cebd-4ebb-9aa1-0ee6b141a7cd')\"\n",
              "            title=\"Convert this dataframe to an interactive table.\"\n",
              "            style=\"display:none;\">\n",
              "\n",
              "  <svg xmlns=\"http://www.w3.org/2000/svg\" height=\"24px\" viewBox=\"0 -960 960 960\">\n",
              "    <path d=\"M120-120v-720h720v720H120Zm60-500h600v-160H180v160Zm220 220h160v-160H400v160Zm0 220h160v-160H400v160ZM180-400h160v-160H180v160Zm440 0h160v-160H620v160ZM180-180h160v-160H180v160Zm440 0h160v-160H620v160Z\"/>\n",
              "  </svg>\n",
              "    </button>\n",
              "\n",
              "  <style>\n",
              "    .colab-df-container {\n",
              "      display:flex;\n",
              "      gap: 12px;\n",
              "    }\n",
              "\n",
              "    .colab-df-convert {\n",
              "      background-color: #E8F0FE;\n",
              "      border: none;\n",
              "      border-radius: 50%;\n",
              "      cursor: pointer;\n",
              "      display: none;\n",
              "      fill: #1967D2;\n",
              "      height: 32px;\n",
              "      padding: 0 0 0 0;\n",
              "      width: 32px;\n",
              "    }\n",
              "\n",
              "    .colab-df-convert:hover {\n",
              "      background-color: #E2EBFA;\n",
              "      box-shadow: 0px 1px 2px rgba(60, 64, 67, 0.3), 0px 1px 3px 1px rgba(60, 64, 67, 0.15);\n",
              "      fill: #174EA6;\n",
              "    }\n",
              "\n",
              "    .colab-df-buttons div {\n",
              "      margin-bottom: 4px;\n",
              "    }\n",
              "\n",
              "    [theme=dark] .colab-df-convert {\n",
              "      background-color: #3B4455;\n",
              "      fill: #D2E3FC;\n",
              "    }\n",
              "\n",
              "    [theme=dark] .colab-df-convert:hover {\n",
              "      background-color: #434B5C;\n",
              "      box-shadow: 0px 1px 3px 1px rgba(0, 0, 0, 0.15);\n",
              "      filter: drop-shadow(0px 1px 2px rgba(0, 0, 0, 0.3));\n",
              "      fill: #FFFFFF;\n",
              "    }\n",
              "  </style>\n",
              "\n",
              "    <script>\n",
              "      const buttonEl =\n",
              "        document.querySelector('#df-d5eaaf22-cebd-4ebb-9aa1-0ee6b141a7cd button.colab-df-convert');\n",
              "      buttonEl.style.display =\n",
              "        google.colab.kernel.accessAllowed ? 'block' : 'none';\n",
              "\n",
              "      async function convertToInteractive(key) {\n",
              "        const element = document.querySelector('#df-d5eaaf22-cebd-4ebb-9aa1-0ee6b141a7cd');\n",
              "        const dataTable =\n",
              "          await google.colab.kernel.invokeFunction('convertToInteractive',\n",
              "                                                    [key], {});\n",
              "        if (!dataTable) return;\n",
              "\n",
              "        const docLinkHtml = 'Like what you see? Visit the ' +\n",
              "          '<a target=\"_blank\" href=https://colab.research.google.com/notebooks/data_table.ipynb>data table notebook</a>'\n",
              "          + ' to learn more about interactive tables.';\n",
              "        element.innerHTML = '';\n",
              "        dataTable['output_type'] = 'display_data';\n",
              "        await google.colab.output.renderOutput(dataTable, element);\n",
              "        const docLink = document.createElement('div');\n",
              "        docLink.innerHTML = docLinkHtml;\n",
              "        element.appendChild(docLink);\n",
              "      }\n",
              "    </script>\n",
              "  </div>\n",
              "\n",
              "\n",
              "    <div id=\"df-130b3c75-540c-4530-a13c-696e013f02d4\">\n",
              "      <button class=\"colab-df-quickchart\" onclick=\"quickchart('df-130b3c75-540c-4530-a13c-696e013f02d4')\"\n",
              "                title=\"Suggest charts\"\n",
              "                style=\"display:none;\">\n",
              "\n",
              "<svg xmlns=\"http://www.w3.org/2000/svg\" height=\"24px\"viewBox=\"0 0 24 24\"\n",
              "     width=\"24px\">\n",
              "    <g>\n",
              "        <path d=\"M19 3H5c-1.1 0-2 .9-2 2v14c0 1.1.9 2 2 2h14c1.1 0 2-.9 2-2V5c0-1.1-.9-2-2-2zM9 17H7v-7h2v7zm4 0h-2V7h2v10zm4 0h-2v-4h2v4z\"/>\n",
              "    </g>\n",
              "</svg>\n",
              "      </button>\n",
              "\n",
              "<style>\n",
              "  .colab-df-quickchart {\n",
              "      --bg-color: #E8F0FE;\n",
              "      --fill-color: #1967D2;\n",
              "      --hover-bg-color: #E2EBFA;\n",
              "      --hover-fill-color: #174EA6;\n",
              "      --disabled-fill-color: #AAA;\n",
              "      --disabled-bg-color: #DDD;\n",
              "  }\n",
              "\n",
              "  [theme=dark] .colab-df-quickchart {\n",
              "      --bg-color: #3B4455;\n",
              "      --fill-color: #D2E3FC;\n",
              "      --hover-bg-color: #434B5C;\n",
              "      --hover-fill-color: #FFFFFF;\n",
              "      --disabled-bg-color: #3B4455;\n",
              "      --disabled-fill-color: #666;\n",
              "  }\n",
              "\n",
              "  .colab-df-quickchart {\n",
              "    background-color: var(--bg-color);\n",
              "    border: none;\n",
              "    border-radius: 50%;\n",
              "    cursor: pointer;\n",
              "    display: none;\n",
              "    fill: var(--fill-color);\n",
              "    height: 32px;\n",
              "    padding: 0;\n",
              "    width: 32px;\n",
              "  }\n",
              "\n",
              "  .colab-df-quickchart:hover {\n",
              "    background-color: var(--hover-bg-color);\n",
              "    box-shadow: 0 1px 2px rgba(60, 64, 67, 0.3), 0 1px 3px 1px rgba(60, 64, 67, 0.15);\n",
              "    fill: var(--button-hover-fill-color);\n",
              "  }\n",
              "\n",
              "  .colab-df-quickchart-complete:disabled,\n",
              "  .colab-df-quickchart-complete:disabled:hover {\n",
              "    background-color: var(--disabled-bg-color);\n",
              "    fill: var(--disabled-fill-color);\n",
              "    box-shadow: none;\n",
              "  }\n",
              "\n",
              "  .colab-df-spinner {\n",
              "    border: 2px solid var(--fill-color);\n",
              "    border-color: transparent;\n",
              "    border-bottom-color: var(--fill-color);\n",
              "    animation:\n",
              "      spin 1s steps(1) infinite;\n",
              "  }\n",
              "\n",
              "  @keyframes spin {\n",
              "    0% {\n",
              "      border-color: transparent;\n",
              "      border-bottom-color: var(--fill-color);\n",
              "      border-left-color: var(--fill-color);\n",
              "    }\n",
              "    20% {\n",
              "      border-color: transparent;\n",
              "      border-left-color: var(--fill-color);\n",
              "      border-top-color: var(--fill-color);\n",
              "    }\n",
              "    30% {\n",
              "      border-color: transparent;\n",
              "      border-left-color: var(--fill-color);\n",
              "      border-top-color: var(--fill-color);\n",
              "      border-right-color: var(--fill-color);\n",
              "    }\n",
              "    40% {\n",
              "      border-color: transparent;\n",
              "      border-right-color: var(--fill-color);\n",
              "      border-top-color: var(--fill-color);\n",
              "    }\n",
              "    60% {\n",
              "      border-color: transparent;\n",
              "      border-right-color: var(--fill-color);\n",
              "    }\n",
              "    80% {\n",
              "      border-color: transparent;\n",
              "      border-right-color: var(--fill-color);\n",
              "      border-bottom-color: var(--fill-color);\n",
              "    }\n",
              "    90% {\n",
              "      border-color: transparent;\n",
              "      border-bottom-color: var(--fill-color);\n",
              "    }\n",
              "  }\n",
              "</style>\n",
              "\n",
              "      <script>\n",
              "        async function quickchart(key) {\n",
              "          const quickchartButtonEl =\n",
              "            document.querySelector('#' + key + ' button');\n",
              "          quickchartButtonEl.disabled = true;  // To prevent multiple clicks.\n",
              "          quickchartButtonEl.classList.add('colab-df-spinner');\n",
              "          try {\n",
              "            const charts = await google.colab.kernel.invokeFunction(\n",
              "                'suggestCharts', [key], {});\n",
              "          } catch (error) {\n",
              "            console.error('Error during call to suggestCharts:', error);\n",
              "          }\n",
              "          quickchartButtonEl.classList.remove('colab-df-spinner');\n",
              "          quickchartButtonEl.classList.add('colab-df-quickchart-complete');\n",
              "        }\n",
              "        (() => {\n",
              "          let quickchartButtonEl =\n",
              "            document.querySelector('#df-130b3c75-540c-4530-a13c-696e013f02d4 button');\n",
              "          quickchartButtonEl.style.display =\n",
              "            google.colab.kernel.accessAllowed ? 'block' : 'none';\n",
              "        })();\n",
              "      </script>\n",
              "    </div>\n",
              "\n",
              "    </div>\n",
              "  </div>\n"
            ],
            "application/vnd.google.colaboratory.intrinsic+json": {
              "type": "dataframe",
              "summary": "{\n  \"name\": \"df\",\n  \"rows\": 10,\n  \"fields\": [\n    {\n      \"column\": \"Title\",\n      \"properties\": {\n        \"dtype\": \"string\",\n        \"num_unique_values\": 10,\n        \"samples\": [\n          \"The Man Who Mistook His Wife for a Hat and Other Clinical Tales\",\n          \"Last One Home (New Beginnings #1)\",\n          \"The Bone Hunters (Lexy Vaughan & Steven Macaulay #2)\"\n        ],\n        \"semantic_type\": \"\",\n        \"description\": \"\"\n      }\n    },\n    {\n      \"column\": \"Price\",\n      \"properties\": {\n        \"dtype\": \"number\",\n        \"std\": 0.22813495031571868,\n        \"min\": 59.45,\n        \"max\": 59.99,\n        \"num_unique_values\": 9,\n        \"samples\": [\n          59.48,\n          59.98,\n          59.71\n        ],\n        \"semantic_type\": \"\",\n        \"description\": \"\"\n      }\n    },\n    {\n      \"column\": \"Availability\",\n      \"properties\": {\n        \"dtype\": \"category\",\n        \"num_unique_values\": 1,\n        \"samples\": [\n          \"In stock\"\n        ],\n        \"semantic_type\": \"\",\n        \"description\": \"\"\n      }\n    },\n    {\n      \"column\": \"Rating\",\n      \"properties\": {\n        \"dtype\": \"number\",\n        \"std\": 1,\n        \"min\": 1,\n        \"max\": 5,\n        \"num_unique_values\": 5,\n        \"samples\": [\n          2\n        ],\n        \"semantic_type\": \"\",\n        \"description\": \"\"\n      }\n    },\n    {\n      \"column\": \"In_Stock\",\n      \"properties\": {\n        \"dtype\": \"category\",\n        \"num_unique_values\": 0,\n        \"samples\": [],\n        \"semantic_type\": \"\",\n        \"description\": \"\"\n      }\n    }\n  ]\n}"
            }
          },
          "metadata": {},
          "execution_count": 20
        }
      ]
    },
    {
      "cell_type": "markdown",
      "source": [
        "**Correlation**"
      ],
      "metadata": {
        "id": "BKr-s1ko-Xzj"
      }
    },
    {
      "cell_type": "code",
      "source": [
        "df[[\"Price\", \"Rating\"]].corr()\n",
        "sns.heatmap(df[[\"Price\", \"Rating\"]].corr(), annot=True, cmap=\"YlGnBu\")\n",
        "plt.title(\"Correlation Heatmap\")\n",
        "plt.show()"
      ],
      "metadata": {
        "colab": {
          "base_uri": "https://localhost:8080/",
          "height": 452
        },
        "id": "UfihtW8W-aGB",
        "outputId": "724588ab-fd23-4685-b499-efce82ca03e9"
      },
      "execution_count": 21,
      "outputs": [
        {
          "output_type": "display_data",
          "data": {
            "text/plain": [
              "<Figure size 640x480 with 2 Axes>"
            ],
            "image/png": "[encoded data removed]"
          },
          "metadata": {}
        }
      ]
    },
    {
      "cell_type": "markdown",
      "source": [
        "## 💾 Export Clean Dataset\n",
        "\n",
        "We export this data to CSV for visualization in Power BI."
      ],
      "metadata": {
        "id": "hwXTu0ODZlrc"
      }
    },
    {
      "cell_type": "code",
      "source": [
        "df.to_csv(\"books_clean.csv\", index=False)"
      ],
      "metadata": {
        "id": "fwHMLfqQZxHF"
      },
      "execution_count": 27,
      "outputs": []
    },
    {
      "cell_type": "code",
      "source": [
        "from google.colab import files\n",
        "files.download('books_clean.csv')"
      ],
      "metadata": {
        "colab": {
          "base_uri": "https://localhost:8080/",
          "height": 17
        },
        "id": "FPbj9-1jWfN9",
        "outputId": "c16b9910-0843-47d5-ea33-43260a1ab26c"
      },
      "execution_count": 28,
      "outputs": [
        {
          "output_type": "display_data",
          "data": {
            "text/plain": [
              "<IPython.core.display.Javascript object>"
            ],
            "application/javascript": [
              "\n",
              "    async function download(id, filename, size) {\n",
              "      if (!google.colab.kernel.accessAllowed) {\n",
              "        return;\n",
              "      }\n",
              "      const div = document.createElement('div');\n",
              "      const label = document.createElement('label');\n",
              "      label.textContent = `Downloading \"${filename}\": `;\n",
              "      div.appendChild(label);\n",
              "      const progress = document.createElement('progress');\n",
              "      progress.max = size;\n",
              "      div.appendChild(progress);\n",
              "      document.body.appendChild(div);\n",
              "\n",
              "      const buffers = [];\n",
              "      let downloaded = 0;\n",
              "\n",
              "      const channel = await google.colab.kernel.comms.open(id);\n",
              "      // Send a message to notify the kernel that we're ready.\n",
              "      channel.send({})\n",
              "\n",
              "      for await (const message of channel.messages) {\n",
              "        // Send a message to notify the kernel that we're ready.\n",
              "        channel.send({})\n",
              "        if (message.buffers) {\n",
              "          for (const buffer of message.buffers) {\n",
              "            buffers.push(buffer);\n",
              "            downloaded += buffer.byteLength;\n",
              "            progress.value = downloaded;\n",
              "          }\n",
              "        }\n",
              "      }\n",
              "      const blob = new Blob(buffers, {type: 'application/binary'});\n",
              "      const a = document.createElement('a');\n",
              "      a.href = window.URL.createObjectURL(blob);\n",
              "      a.download = filename;\n",
              "      div.appendChild(a);\n",
              "      a.click();\n",
              "      div.remove();\n",
              "    }\n",
              "  "
            ]
          },
          "metadata": {}
        },
        {
          "output_type": "display_data",
          "data": {
            "text/plain": [
              "<IPython.core.display.Javascript object>"
            ],
            "application/javascript": [
              "download(\"download_371591ba-aaf0-4151-ac51-399a8c3787fc\", \"books_clean.csv\", 66380)"
            ]
          },
          "metadata": {}
        }
      ]
    },
    {
      "cell_type": "markdown",
      "source": [
        "## 📈 Power BI Dashboard Overview\n",
        "\n",
        "**Dashboard Features:**\n",
        "- Ratings breakdown (Pie Chart)\n",
        "- Price distribution (Histogram)\n",
        "- Summary cards (Total Books, Average Price, Average Rating)\n",
        "\n",
        "**Dataset Source:**\n",
        "BooksToScrape.com\n",
        "\n",
        "**Date Collected:**\n",
        "July 2025\n",
        "\n",
        "**Notes:**\n",
        "- Single page (1000 books)\n",
        "- Ratings mapped from words to numbers\n"
      ],
      "metadata": {
        "id": "6vjLcUSpaBsR"
      }
    },
    {
      "cell_type": "markdown",
      "source": [
        "![book_scraping_dashboard.png](data:image/png;base64,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)"
      ],
      "metadata": {
        "id": "z8B8n1aIaPNf"
      }
    },
    {
      "cell_type": "markdown",
      "source": [
        "## ✅ Conclusion\n",
        "\n",
        "This project demonstrates:\n",
        "- End-to-end workflow from scraping to dashboarding\n",
        "- Basic data cleaning and EDA\n",
        "- Power BI dashboard creation for clear presentation\n",
        "\n",
        "**Next Steps:**\n",
        "- Add category and description fields\n",
        "- Automate regular data refresh\n",
        "\n",
        "---"
      ],
      "metadata": {
        "id": "XiNqqh2sb9en"
      }
    }
  ]
}